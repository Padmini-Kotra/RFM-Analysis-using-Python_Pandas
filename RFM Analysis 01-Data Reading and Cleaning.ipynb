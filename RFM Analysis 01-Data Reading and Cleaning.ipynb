{
 "cells": [
  {
   "cell_type": "code",
   "execution_count": 1,
   "id": "14baf102",
   "metadata": {},
   "outputs": [],
   "source": [
    "import pandas as pd\n",
    "import numpy as np"
   ]
  },
  {
   "cell_type": "code",
   "execution_count": 2,
   "id": "96ad9b5a",
   "metadata": {},
   "outputs": [
    {
     "data": {
      "text/html": [
       "<div>\n",
       "<style scoped>\n",
       "    .dataframe tbody tr th:only-of-type {\n",
       "        vertical-align: middle;\n",
       "    }\n",
       "\n",
       "    .dataframe tbody tr th {\n",
       "        vertical-align: top;\n",
       "    }\n",
       "\n",
       "    .dataframe thead th {\n",
       "        text-align: right;\n",
       "    }\n",
       "</style>\n",
       "<table border=\"1\" class=\"dataframe\">\n",
       "  <thead>\n",
       "    <tr style=\"text-align: right;\">\n",
       "      <th></th>\n",
       "      <th>Invoice</th>\n",
       "      <th>StockCode</th>\n",
       "      <th>Description</th>\n",
       "      <th>Quantity</th>\n",
       "      <th>InvoiceDate</th>\n",
       "      <th>Price</th>\n",
       "      <th>Customer ID</th>\n",
       "      <th>Country</th>\n",
       "    </tr>\n",
       "  </thead>\n",
       "  <tbody>\n",
       "    <tr>\n",
       "      <th>0</th>\n",
       "      <td>489434</td>\n",
       "      <td>85048</td>\n",
       "      <td>15CM CHRISTMAS GLASS BALL 20 LIGHTS</td>\n",
       "      <td>12</td>\n",
       "      <td>1.12.2009 07:45</td>\n",
       "      <td>6,95</td>\n",
       "      <td>13085.0</td>\n",
       "      <td>United Kingdom</td>\n",
       "    </tr>\n",
       "    <tr>\n",
       "      <th>1</th>\n",
       "      <td>489434</td>\n",
       "      <td>79323P</td>\n",
       "      <td>PINK CHERRY LIGHTS</td>\n",
       "      <td>12</td>\n",
       "      <td>1.12.2009 07:45</td>\n",
       "      <td>6,75</td>\n",
       "      <td>13085.0</td>\n",
       "      <td>United Kingdom</td>\n",
       "    </tr>\n",
       "    <tr>\n",
       "      <th>2</th>\n",
       "      <td>489434</td>\n",
       "      <td>79323W</td>\n",
       "      <td>WHITE CHERRY LIGHTS</td>\n",
       "      <td>12</td>\n",
       "      <td>1.12.2009 07:45</td>\n",
       "      <td>6,75</td>\n",
       "      <td>13085.0</td>\n",
       "      <td>United Kingdom</td>\n",
       "    </tr>\n",
       "    <tr>\n",
       "      <th>3</th>\n",
       "      <td>489434</td>\n",
       "      <td>22041</td>\n",
       "      <td>RECORD FRAME 7\" SINGLE SIZE</td>\n",
       "      <td>48</td>\n",
       "      <td>1.12.2009 07:45</td>\n",
       "      <td>2,1</td>\n",
       "      <td>13085.0</td>\n",
       "      <td>United Kingdom</td>\n",
       "    </tr>\n",
       "    <tr>\n",
       "      <th>4</th>\n",
       "      <td>489434</td>\n",
       "      <td>21232</td>\n",
       "      <td>STRAWBERRY CERAMIC TRINKET BOX</td>\n",
       "      <td>24</td>\n",
       "      <td>1.12.2009 07:45</td>\n",
       "      <td>1,25</td>\n",
       "      <td>13085.0</td>\n",
       "      <td>United Kingdom</td>\n",
       "    </tr>\n",
       "  </tbody>\n",
       "</table>\n",
       "</div>"
      ],
      "text/plain": [
       "  Invoice StockCode                          Description  Quantity  \\\n",
       "0  489434     85048  15CM CHRISTMAS GLASS BALL 20 LIGHTS        12   \n",
       "1  489434    79323P                   PINK CHERRY LIGHTS        12   \n",
       "2  489434    79323W                  WHITE CHERRY LIGHTS        12   \n",
       "3  489434     22041         RECORD FRAME 7\" SINGLE SIZE         48   \n",
       "4  489434     21232       STRAWBERRY CERAMIC TRINKET BOX        24   \n",
       "\n",
       "       InvoiceDate Price  Customer ID         Country  \n",
       "0  1.12.2009 07:45  6,95      13085.0  United Kingdom  \n",
       "1  1.12.2009 07:45  6,75      13085.0  United Kingdom  \n",
       "2  1.12.2009 07:45  6,75      13085.0  United Kingdom  \n",
       "3  1.12.2009 07:45   2,1      13085.0  United Kingdom  \n",
       "4  1.12.2009 07:45  1,25      13085.0  United Kingdom  "
      ]
     },
     "execution_count": 2,
     "metadata": {},
     "output_type": "execute_result"
    }
   ],
   "source": [
    "df=pd.read_csv(\"retail.csv\")\n",
    "df.head()"
   ]
  },
  {
   "cell_type": "markdown",
   "id": "9c8258f2",
   "metadata": {},
   "source": [
    "### Data Cleaning"
   ]
  },
  {
   "cell_type": "code",
   "execution_count": 3,
   "id": "8bb2b77b",
   "metadata": {},
   "outputs": [
    {
     "name": "stdout",
     "output_type": "stream",
     "text": [
      "<class 'pandas.core.frame.DataFrame'>\n",
      "RangeIndex: 1048575 entries, 0 to 1048574\n",
      "Data columns (total 8 columns):\n",
      " #   Column       Non-Null Count    Dtype  \n",
      "---  ------       --------------    -----  \n",
      " 0   Invoice      1048575 non-null  object \n",
      " 1   StockCode    1048575 non-null  object \n",
      " 2   Description  1044203 non-null  object \n",
      " 3   Quantity     1048575 non-null  int64  \n",
      " 4   InvoiceDate  1048575 non-null  object \n",
      " 5   Price        1048575 non-null  object \n",
      " 6   Customer ID  811893 non-null   float64\n",
      " 7   Country      1048575 non-null  object \n",
      "dtypes: float64(1), int64(1), object(6)\n",
      "memory usage: 64.0+ MB\n"
     ]
    }
   ],
   "source": [
    "df.info() #To get insights into the data types and number of values in each column"
   ]
  },
  {
   "cell_type": "code",
   "execution_count": 4,
   "id": "7f75f1a7",
   "metadata": {},
   "outputs": [
    {
     "data": {
      "text/plain": [
       "Invoice             0\n",
       "StockCode           0\n",
       "Description      4372\n",
       "Quantity            0\n",
       "InvoiceDate         0\n",
       "Price               0\n",
       "Customer ID    236682\n",
       "Country             0\n",
       "dtype: int64"
      ]
     },
     "execution_count": 4,
     "metadata": {},
     "output_type": "execute_result"
    }
   ],
   "source": [
    "df.isna().sum() # Finding out the null values in the dataframe"
   ]
  },
  {
   "cell_type": "code",
   "execution_count": 5,
   "id": "1c073a52",
   "metadata": {},
   "outputs": [
    {
     "data": {
      "text/plain": [
       "(1048575, 8)"
      ]
     },
     "execution_count": 5,
     "metadata": {},
     "output_type": "execute_result"
    }
   ],
   "source": [
    "df.shape"
   ]
  },
  {
   "cell_type": "code",
   "execution_count": 6,
   "id": "b53168c6",
   "metadata": {},
   "outputs": [],
   "source": [
    "df.dropna(inplace=True) # Dropping all the null values as we cannot impute customer IDs or Descriptions"
   ]
  },
  {
   "cell_type": "code",
   "execution_count": 7,
   "id": "b5fa175c",
   "metadata": {},
   "outputs": [
    {
     "data": {
      "text/plain": [
       "(811893, 8)"
      ]
     },
     "execution_count": 7,
     "metadata": {},
     "output_type": "execute_result"
    }
   ],
   "source": [
    "df.shape # Checking how many rows we are left with"
   ]
  },
  {
   "cell_type": "code",
   "execution_count": 8,
   "id": "4cfffa2a",
   "metadata": {},
   "outputs": [
    {
     "data": {
      "text/plain": [
       "Invoice        0\n",
       "StockCode      0\n",
       "Description    0\n",
       "Quantity       0\n",
       "InvoiceDate    0\n",
       "Price          0\n",
       "Customer ID    0\n",
       "Country        0\n",
       "dtype: int64"
      ]
     },
     "execution_count": 8,
     "metadata": {},
     "output_type": "execute_result"
    }
   ],
   "source": [
    "df.isna().sum() "
   ]
  },
  {
   "cell_type": "code",
   "execution_count": 9,
   "id": "22efcee2",
   "metadata": {},
   "outputs": [
    {
     "data": {
      "text/plain": [
       "0    13085\n",
       "1    13085\n",
       "2    13085\n",
       "3    13085\n",
       "4    13085\n",
       "Name: Customer ID, dtype: object"
      ]
     },
     "execution_count": 9,
     "metadata": {},
     "output_type": "execute_result"
    }
   ],
   "source": [
    "# Changing the type of customer ID from float to int and then to object type as it is a categorical variable\n",
    "df['Customer ID'] = df['Customer ID'].astype(int)\n",
    "df['Customer ID'] = df['Customer ID'].astype(object)\n",
    "df['Customer ID'].head()"
   ]
  },
  {
   "cell_type": "code",
   "execution_count": 10,
   "id": "8bb0fb1e",
   "metadata": {},
   "outputs": [
    {
     "data": {
      "text/html": [
       "<div>\n",
       "<style scoped>\n",
       "    .dataframe tbody tr th:only-of-type {\n",
       "        vertical-align: middle;\n",
       "    }\n",
       "\n",
       "    .dataframe tbody tr th {\n",
       "        vertical-align: top;\n",
       "    }\n",
       "\n",
       "    .dataframe thead th {\n",
       "        text-align: right;\n",
       "    }\n",
       "</style>\n",
       "<table border=\"1\" class=\"dataframe\">\n",
       "  <thead>\n",
       "    <tr style=\"text-align: right;\">\n",
       "      <th></th>\n",
       "      <th>Invoice</th>\n",
       "      <th>StockCode</th>\n",
       "      <th>Description</th>\n",
       "      <th>Quantity</th>\n",
       "      <th>InvoiceDate</th>\n",
       "      <th>Price</th>\n",
       "      <th>Customer ID</th>\n",
       "      <th>Country</th>\n",
       "    </tr>\n",
       "  </thead>\n",
       "  <tbody>\n",
       "    <tr>\n",
       "      <th>0</th>\n",
       "      <td>489434</td>\n",
       "      <td>85048</td>\n",
       "      <td>15CM CHRISTMAS GLASS BALL 20 LIGHTS</td>\n",
       "      <td>12</td>\n",
       "      <td>1.12.2009 07:45</td>\n",
       "      <td>6.95</td>\n",
       "      <td>13085</td>\n",
       "      <td>United Kingdom</td>\n",
       "    </tr>\n",
       "    <tr>\n",
       "      <th>1</th>\n",
       "      <td>489434</td>\n",
       "      <td>79323P</td>\n",
       "      <td>PINK CHERRY LIGHTS</td>\n",
       "      <td>12</td>\n",
       "      <td>1.12.2009 07:45</td>\n",
       "      <td>6.75</td>\n",
       "      <td>13085</td>\n",
       "      <td>United Kingdom</td>\n",
       "    </tr>\n",
       "    <tr>\n",
       "      <th>2</th>\n",
       "      <td>489434</td>\n",
       "      <td>79323W</td>\n",
       "      <td>WHITE CHERRY LIGHTS</td>\n",
       "      <td>12</td>\n",
       "      <td>1.12.2009 07:45</td>\n",
       "      <td>6.75</td>\n",
       "      <td>13085</td>\n",
       "      <td>United Kingdom</td>\n",
       "    </tr>\n",
       "    <tr>\n",
       "      <th>3</th>\n",
       "      <td>489434</td>\n",
       "      <td>22041</td>\n",
       "      <td>RECORD FRAME 7\" SINGLE SIZE</td>\n",
       "      <td>48</td>\n",
       "      <td>1.12.2009 07:45</td>\n",
       "      <td>2.10</td>\n",
       "      <td>13085</td>\n",
       "      <td>United Kingdom</td>\n",
       "    </tr>\n",
       "    <tr>\n",
       "      <th>4</th>\n",
       "      <td>489434</td>\n",
       "      <td>21232</td>\n",
       "      <td>STRAWBERRY CERAMIC TRINKET BOX</td>\n",
       "      <td>24</td>\n",
       "      <td>1.12.2009 07:45</td>\n",
       "      <td>1.25</td>\n",
       "      <td>13085</td>\n",
       "      <td>United Kingdom</td>\n",
       "    </tr>\n",
       "  </tbody>\n",
       "</table>\n",
       "</div>"
      ],
      "text/plain": [
       "  Invoice StockCode                          Description  Quantity  \\\n",
       "0  489434     85048  15CM CHRISTMAS GLASS BALL 20 LIGHTS        12   \n",
       "1  489434    79323P                   PINK CHERRY LIGHTS        12   \n",
       "2  489434    79323W                  WHITE CHERRY LIGHTS        12   \n",
       "3  489434     22041         RECORD FRAME 7\" SINGLE SIZE         48   \n",
       "4  489434     21232       STRAWBERRY CERAMIC TRINKET BOX        24   \n",
       "\n",
       "       InvoiceDate  Price Customer ID         Country  \n",
       "0  1.12.2009 07:45   6.95       13085  United Kingdom  \n",
       "1  1.12.2009 07:45   6.75       13085  United Kingdom  \n",
       "2  1.12.2009 07:45   6.75       13085  United Kingdom  \n",
       "3  1.12.2009 07:45   2.10       13085  United Kingdom  \n",
       "4  1.12.2009 07:45   1.25       13085  United Kingdom  "
      ]
     },
     "execution_count": 10,
     "metadata": {},
     "output_type": "execute_result"
    }
   ],
   "source": [
    "# Replacing the ',' in price values with '.' and then changing the prices to float values\n",
    "\n",
    "l1=[]\n",
    "s1=''\n",
    "for i in df['Price']:\n",
    "    s1=i.replace(',','.')\n",
    "    l1.append(float(s1))\n",
    "df['Price']=l1\n",
    "df.head()\n",
    "   "
   ]
  },
  {
   "cell_type": "code",
   "execution_count": 11,
   "id": "532019b0",
   "metadata": {},
   "outputs": [
    {
     "name": "stdout",
     "output_type": "stream",
     "text": [
      "<class 'pandas.core.frame.DataFrame'>\n",
      "Int64Index: 811893 entries, 0 to 1048574\n",
      "Data columns (total 8 columns):\n",
      " #   Column       Non-Null Count   Dtype  \n",
      "---  ------       --------------   -----  \n",
      " 0   Invoice      811893 non-null  object \n",
      " 1   StockCode    811893 non-null  object \n",
      " 2   Description  811893 non-null  object \n",
      " 3   Quantity     811893 non-null  int64  \n",
      " 4   InvoiceDate  811893 non-null  object \n",
      " 5   Price        811893 non-null  float64\n",
      " 6   Customer ID  811893 non-null  object \n",
      " 7   Country      811893 non-null  object \n",
      "dtypes: float64(1), int64(1), object(6)\n",
      "memory usage: 55.7+ MB\n"
     ]
    }
   ],
   "source": [
    "df.info()"
   ]
  },
  {
   "cell_type": "code",
   "execution_count": 12,
   "id": "368f238d",
   "metadata": {},
   "outputs": [
    {
     "name": "stdout",
     "output_type": "stream",
     "text": [
      "<class 'pandas.core.frame.DataFrame'>\n",
      "Int64Index: 811893 entries, 0 to 1048574\n",
      "Data columns (total 8 columns):\n",
      " #   Column       Non-Null Count   Dtype         \n",
      "---  ------       --------------   -----         \n",
      " 0   Invoice      811893 non-null  object        \n",
      " 1   StockCode    811893 non-null  object        \n",
      " 2   Description  811893 non-null  object        \n",
      " 3   Quantity     811893 non-null  int64         \n",
      " 4   InvoiceDate  811893 non-null  datetime64[ns]\n",
      " 5   Price        811893 non-null  float64       \n",
      " 6   Customer ID  811893 non-null  object        \n",
      " 7   Country      811893 non-null  object        \n",
      "dtypes: datetime64[ns](1), float64(1), int64(1), object(5)\n",
      "memory usage: 55.7+ MB\n"
     ]
    }
   ],
   "source": [
    "# Changing the type of invoice data as we need it to calculate the recency\n",
    "df['InvoiceDate'] = pd.to_datetime(df['InvoiceDate'], format='%d.%m.%Y %H:%M')\n",
    "df.info()"
   ]
  },
  {
   "cell_type": "code",
   "execution_count": 13,
   "id": "e49d9a38",
   "metadata": {},
   "outputs": [
    {
     "data": {
      "text/html": [
       "<div>\n",
       "<style scoped>\n",
       "    .dataframe tbody tr th:only-of-type {\n",
       "        vertical-align: middle;\n",
       "    }\n",
       "\n",
       "    .dataframe tbody tr th {\n",
       "        vertical-align: top;\n",
       "    }\n",
       "\n",
       "    .dataframe thead th {\n",
       "        text-align: right;\n",
       "    }\n",
       "</style>\n",
       "<table border=\"1\" class=\"dataframe\">\n",
       "  <thead>\n",
       "    <tr style=\"text-align: right;\">\n",
       "      <th></th>\n",
       "      <th>Invoice</th>\n",
       "      <th>StockCode</th>\n",
       "      <th>Description</th>\n",
       "      <th>Quantity</th>\n",
       "      <th>InvoiceDate</th>\n",
       "      <th>Price</th>\n",
       "      <th>Customer ID</th>\n",
       "      <th>Country</th>\n",
       "    </tr>\n",
       "  </thead>\n",
       "  <tbody>\n",
       "    <tr>\n",
       "      <th>0</th>\n",
       "      <td>489434</td>\n",
       "      <td>85048</td>\n",
       "      <td>15CM CHRISTMAS GLASS BALL 20 LIGHTS</td>\n",
       "      <td>12</td>\n",
       "      <td>2009-12-01 07:45:00</td>\n",
       "      <td>6.95</td>\n",
       "      <td>13085</td>\n",
       "      <td>United Kingdom</td>\n",
       "    </tr>\n",
       "    <tr>\n",
       "      <th>1</th>\n",
       "      <td>489434</td>\n",
       "      <td>79323P</td>\n",
       "      <td>PINK CHERRY LIGHTS</td>\n",
       "      <td>12</td>\n",
       "      <td>2009-12-01 07:45:00</td>\n",
       "      <td>6.75</td>\n",
       "      <td>13085</td>\n",
       "      <td>United Kingdom</td>\n",
       "    </tr>\n",
       "  </tbody>\n",
       "</table>\n",
       "</div>"
      ],
      "text/plain": [
       "  Invoice StockCode                          Description  Quantity  \\\n",
       "0  489434     85048  15CM CHRISTMAS GLASS BALL 20 LIGHTS        12   \n",
       "1  489434    79323P                   PINK CHERRY LIGHTS        12   \n",
       "\n",
       "          InvoiceDate  Price Customer ID         Country  \n",
       "0 2009-12-01 07:45:00   6.95       13085  United Kingdom  \n",
       "1 2009-12-01 07:45:00   6.75       13085  United Kingdom  "
      ]
     },
     "execution_count": 13,
     "metadata": {},
     "output_type": "execute_result"
    }
   ],
   "source": [
    "df.head(2)"
   ]
  },
  {
   "cell_type": "code",
   "execution_count": 14,
   "id": "61d91558",
   "metadata": {},
   "outputs": [
    {
     "data": {
      "text/plain": [
       "array([    12,     48,     24,     10,     18,      3,     16,      4,\n",
       "            2,      6,      8,      1,     28,     30,     60,     32,\n",
       "           56,      9,     25,     36,     20,    -12,     -6,     -4,\n",
       "          -24,     -3,     -2,    576,    288,     27,     64,    160,\n",
       "            5,     -1,     72,     50,     54,      7,    800,     11,\n",
       "           58,    192,     96,    144,    100,    180,    216,     15,\n",
       "          240,    108,     33,     90,     81,    -81,    -48,     17,\n",
       "           -5,     40,     -8,     -9,     13,     21,    120,    200,\n",
       "          168,     19,    280,    128,   -150,    -18,    -23,     80,\n",
       "          300,    450,     14,     61,    480,     -7,     46,    504,\n",
       "           45,   4320,   5184,   4008,     22,    600,    505,    500,\n",
       "           23,     47,    432,    252,     75,    -16,   -504,   -600,\n",
       "         -252,   -246,    -36,    360,    107,     49,     42,     66,\n",
       "          -10,     34,     52,    400,     70,    936,    -32,    -60,\n",
       "          -96,    -50,   -120,     35,    -64,   -168,    -30,    256,\n",
       "         1500,    320,    130,   1002,     26,   1080,     29,    -13,\n",
       "           67,    960,    864,    150,    126,    468,    336,   3000,\n",
       "          -25,     38,    208,    334,    124,    125,    117,   -200,\n",
       "           39,    -20,     55,    -11,     78,   -100,    -17,   -144,\n",
       "           77,    350,    526,     98,    112,     59,     37,    -14,\n",
       "          408,   1440,    832,    624,    204,    198,    608,    224,\n",
       "           43,     65,    720,    271,     41,    264,    225,    104,\n",
       "          163,    187,    312,    164,    110,   -190,    250,    -72,\n",
       "          284,     89,    118,   -400,   6012,    866,   6144,   2040,\n",
       "         2520,   3888,   5280,   4800,   6768,   9312,    384,     44,\n",
       "          -44,    132,   -132,    -27,    229,     62,     82,    114,\n",
       "          -26,    156,    -22,    460,     84,   -300,    374,    190,\n",
       "          484,    -21,  19152,   3312,   1344,   2504,   1968,    482,\n",
       "         4176,   2880,   6696,   1200,   1800,   1400,   4200,    696,\n",
       "         3360,   3200,   3040,   2700,     51,  -2504,   9456,    176,\n",
       "          -40,    900,     53,   -192,   -240,    -15,    152,    700,\n",
       "           74,   1008,   -432,   -108,    141,    537,     88,    140,\n",
       "          -28,    -80,     31,    205,    247,    372,   2016,     87,\n",
       "          992,  12960,  12480,  12744,   1110,   4608,   5364,    420,\n",
       "           68,     91,    148,   1000,    640,  10000,    -74,    135,\n",
       "           76,    840,    816,    324,    -42,    648,     85,   1152,\n",
       "          102,   -408,    -38,   -128,  -1440,    -34,    498,    768,\n",
       "         -288,   -204,   -160,    246,     71,    516,    270,    560,\n",
       "         -309,    392,    -19,    396,    612,    322,   -500,   -280,\n",
       "         -140,   -250,   -156,    105,    175,    136,    171,  -1200,\n",
       "          -69,   -312,    -51,    -49,   5000,   2500,    808,   2664,\n",
       "         1728,    228,   2972,   1098,   1128,    276,    -41,    134,\n",
       "          830,   -830,    210,   -210,    730,    122,    293,   3500,\n",
       "          -98,    -99,   1056,    220,    352,    -29,    -61,   2000,\n",
       "         -576,   -320,   -648,    248,    330,   -720,     95,    -85,\n",
       "         -264,    235,    -90,    174,    -55,   2304,   1120,    -46,\n",
       "          -33,    985,   3936,   2976,   4752,   1872,   1116,    567,\n",
       "          684,    984,   1308,   2112,   2952,   4992,   2496,   3648,\n",
       "         1536,   1248,   1632,   7008,   7128,   3072,    444,   3744,\n",
       "         1104,     63,    327,   -180,   -118,     97,     57,    121,\n",
       "          394,   1920,   3960,    876,    756,    672,   -324,    189,\n",
       "         2004,   1512,    704,    760,    464,    520,  -5184,  -1248,\n",
       "        -1536,   -864,  -3648,  -2496,  -4992,  -2952,  -2112,  -1308,\n",
       "         -984,   -768,   -684,   -567,  -1116,   -372,   -480,  -1872,\n",
       "        -4752,  -4320,  -1104,   -960,  -4608,  -2000,  -3744,   -444,\n",
       "        -3072,  -7128,  -7008,  -1632,  -2976,  -3936,    139,    -35,\n",
       "          -31,    162,    448,    304,    -59,   3120,   1224,   -700,\n",
       "          196,    201,    402,    625,   1240,  -1152,   -384,    888,\n",
       "          -56,   -148,    512,   1944,   1960,   9360,   6336,   -270,\n",
       "          169,    243,   -243,   2400,    213,    212,  -2400,   1680,\n",
       "         -248,   -256,   1584,   -212,   -213,   -110,    -82,    -68,\n",
       "          -45,    -37,    -65,   -129,   -117,  -9360,   1824,     69,\n",
       "          378,    972,   1488,   1394,    272,    -47,   1296,    147,\n",
       "          860,   1010,   1356,   1284,    186,   1930,   3114,   1300,\n",
       "          670,  74215, -74215,    456,    -94,   2592,    -76,    407,\n",
       "         3906,    -86,   -102,   2160,    342,   -624,    151,    -58,\n",
       "         -670,  -1300,  -1930,  -3114,    462,    492,    273,   1350,\n",
       "          428,  -1350,    101,    227,    222,    906,    552,    738,\n",
       "         4300,    -52,   1600,    323,   1515,  -1515,    660,   -420,\n",
       "          188,    588,   -164,    430,    701,    828,    540,    291,\n",
       "         3186,     83,     79,   -360,    -75,    109,   -121,    129,\n",
       "          261,    348,   1900,    157,    -39,    116,    968,    824,\n",
       "         -828,   -701,    410,    236,    230,   -334,   -318,   -126,\n",
       "         -113,     86,     93,    494,     92,   1788,    744,    416,\n",
       "          496,    306,   1878,    666,    708,   1428,    852,   1412,\n",
       "          528,   -756,   -152,    -79,    -43,    183,   -186,    -53,\n",
       "          -70,   1540,   -130,   -220,   -840,  -1296,     94,    255,\n",
       "         -468,    -66,   -112,    912,   1992,    232,    630,   1020,\n",
       "         2100,   -162,    -67,   -276,   -184,    234,    244,   -244,\n",
       "         -234,  12540,    115,    774], dtype=int64)"
      ]
     },
     "execution_count": 14,
     "metadata": {},
     "output_type": "execute_result"
    }
   ],
   "source": [
    "#Checking to see if the data in Qunatity is good to work with\n",
    "df.Quantity.unique()"
   ]
  },
  {
   "cell_type": "code",
   "execution_count": 15,
   "id": "d754a7a2",
   "metadata": {},
   "outputs": [
    {
     "data": {
      "text/plain": [
       "array([ 12,  48,  24,  10,  18,   3,  16,   4,   2,   6,   8,   1,  28,\n",
       "        30,  60,  32,  56,   9,  25,  36,  20, 576, 288,  27,  64, 160,\n",
       "         5,  72,  50,  54,   7, 800,  11,  58, 192,  96, 144, 100, 180,\n",
       "       216,  15, 240, 108,  33,  90,  81,  17,  40,  13,  21], dtype=int64)"
      ]
     },
     "execution_count": 15,
     "metadata": {},
     "output_type": "execute_result"
    }
   ],
   "source": [
    "#Converting the negative values in quantity column to positive ones by using abs function\n",
    "df.Quantity=df.Quantity.abs()\n",
    "df.Quantity.unique()[0:50]"
   ]
  },
  {
   "cell_type": "code",
   "execution_count": 16,
   "id": "0103ddbe",
   "metadata": {},
   "outputs": [
    {
     "data": {
      "text/plain": [
       "array([6.95, 6.75, 2.1 , ..., 2.42, 3.16, 4.7 ])"
      ]
     },
     "execution_count": 16,
     "metadata": {},
     "output_type": "execute_result"
    }
   ],
   "source": [
    "df.Price.unique()"
   ]
  },
  {
   "cell_type": "code",
   "execution_count": 17,
   "id": "1c00d9fe",
   "metadata": {},
   "outputs": [],
   "source": [
    "#Converting negative values in price column(if any) to positive values\n",
    "df.Price=df.Price.abs()"
   ]
  },
  {
   "cell_type": "code",
   "execution_count": 18,
   "id": "c70fa1bb",
   "metadata": {},
   "outputs": [
    {
     "data": {
      "text/html": [
       "<div>\n",
       "<style scoped>\n",
       "    .dataframe tbody tr th:only-of-type {\n",
       "        vertical-align: middle;\n",
       "    }\n",
       "\n",
       "    .dataframe tbody tr th {\n",
       "        vertical-align: top;\n",
       "    }\n",
       "\n",
       "    .dataframe thead th {\n",
       "        text-align: right;\n",
       "    }\n",
       "</style>\n",
       "<table border=\"1\" class=\"dataframe\">\n",
       "  <thead>\n",
       "    <tr style=\"text-align: right;\">\n",
       "      <th></th>\n",
       "      <th>Invoice</th>\n",
       "      <th>StockCode</th>\n",
       "      <th>Description</th>\n",
       "      <th>Quantity</th>\n",
       "      <th>InvoiceDate</th>\n",
       "      <th>Price</th>\n",
       "      <th>Customer ID</th>\n",
       "      <th>Country</th>\n",
       "    </tr>\n",
       "  </thead>\n",
       "  <tbody>\n",
       "    <tr>\n",
       "      <th>0</th>\n",
       "      <td>489434</td>\n",
       "      <td>85048</td>\n",
       "      <td>15CM CHRISTMAS GLASS BALL 20 LIGHTS</td>\n",
       "      <td>12</td>\n",
       "      <td>2009-12-01 07:45:00</td>\n",
       "      <td>6.95</td>\n",
       "      <td>13085</td>\n",
       "      <td>United Kingdom</td>\n",
       "    </tr>\n",
       "    <tr>\n",
       "      <th>1</th>\n",
       "      <td>489434</td>\n",
       "      <td>79323P</td>\n",
       "      <td>PINK CHERRY LIGHTS</td>\n",
       "      <td>12</td>\n",
       "      <td>2009-12-01 07:45:00</td>\n",
       "      <td>6.75</td>\n",
       "      <td>13085</td>\n",
       "      <td>United Kingdom</td>\n",
       "    </tr>\n",
       "    <tr>\n",
       "      <th>2</th>\n",
       "      <td>489434</td>\n",
       "      <td>79323W</td>\n",
       "      <td>WHITE CHERRY LIGHTS</td>\n",
       "      <td>12</td>\n",
       "      <td>2009-12-01 07:45:00</td>\n",
       "      <td>6.75</td>\n",
       "      <td>13085</td>\n",
       "      <td>United Kingdom</td>\n",
       "    </tr>\n",
       "    <tr>\n",
       "      <th>3</th>\n",
       "      <td>489434</td>\n",
       "      <td>22041</td>\n",
       "      <td>RECORD FRAME 7\" SINGLE SIZE</td>\n",
       "      <td>48</td>\n",
       "      <td>2009-12-01 07:45:00</td>\n",
       "      <td>2.10</td>\n",
       "      <td>13085</td>\n",
       "      <td>United Kingdom</td>\n",
       "    </tr>\n",
       "    <tr>\n",
       "      <th>4</th>\n",
       "      <td>489434</td>\n",
       "      <td>21232</td>\n",
       "      <td>STRAWBERRY CERAMIC TRINKET BOX</td>\n",
       "      <td>24</td>\n",
       "      <td>2009-12-01 07:45:00</td>\n",
       "      <td>1.25</td>\n",
       "      <td>13085</td>\n",
       "      <td>United Kingdom</td>\n",
       "    </tr>\n",
       "  </tbody>\n",
       "</table>\n",
       "</div>"
      ],
      "text/plain": [
       "  Invoice StockCode                          Description  Quantity  \\\n",
       "0  489434     85048  15CM CHRISTMAS GLASS BALL 20 LIGHTS        12   \n",
       "1  489434    79323P                   PINK CHERRY LIGHTS        12   \n",
       "2  489434    79323W                  WHITE CHERRY LIGHTS        12   \n",
       "3  489434     22041         RECORD FRAME 7\" SINGLE SIZE         48   \n",
       "4  489434     21232       STRAWBERRY CERAMIC TRINKET BOX        24   \n",
       "\n",
       "          InvoiceDate  Price Customer ID         Country  \n",
       "0 2009-12-01 07:45:00   6.95       13085  United Kingdom  \n",
       "1 2009-12-01 07:45:00   6.75       13085  United Kingdom  \n",
       "2 2009-12-01 07:45:00   6.75       13085  United Kingdom  \n",
       "3 2009-12-01 07:45:00   2.10       13085  United Kingdom  \n",
       "4 2009-12-01 07:45:00   1.25       13085  United Kingdom  "
      ]
     },
     "execution_count": 18,
     "metadata": {},
     "output_type": "execute_result"
    }
   ],
   "source": [
    "df.head()"
   ]
  },
  {
   "cell_type": "code",
   "execution_count": 19,
   "id": "02a8a3b1",
   "metadata": {},
   "outputs": [],
   "source": [
    "df.to_csv(\"cleaned_retail.csv\")"
   ]
  }
 ],
 "metadata": {
  "kernelspec": {
   "display_name": "Python 3 (ipykernel)",
   "language": "python",
   "name": "python3"
  },
  "language_info": {
   "codemirror_mode": {
    "name": "ipython",
    "version": 3
   },
   "file_extension": ".py",
   "mimetype": "text/x-python",
   "name": "python",
   "nbconvert_exporter": "python",
   "pygments_lexer": "ipython3",
   "version": "3.9.16"
  }
 },
 "nbformat": 4,
 "nbformat_minor": 5
}
